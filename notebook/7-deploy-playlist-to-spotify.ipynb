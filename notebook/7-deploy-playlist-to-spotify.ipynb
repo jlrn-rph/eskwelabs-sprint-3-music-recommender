{
 "cells": [
  {
   "attachments": {},
   "cell_type": "markdown",
   "metadata": {},
   "source": [
    "# Deploy Playlist to Spotify\n",
    "\n",
    "This notebook shows how to deploy the recommender engine generated tracks as a playlist in Spotify using `spotipy` module."
   ]
  },
  {
   "cell_type": "code",
   "execution_count": null,
   "metadata": {
    "ExecuteTime": {
     "end_time": "2021-06-01T13:37:09.010248Z",
     "start_time": "2021-06-01T13:37:08.426087Z"
    }
   },
   "outputs": [],
   "source": [
    "import spotipy\n",
    "from spotipy.oauth2 import SpotifyClientCredentials\n",
    "\n",
    "import keyring\n",
    "import time"
   ]
  },
  {
   "attachments": {},
   "cell_type": "markdown",
   "metadata": {},
   "source": [
    "## Setup credentials"
   ]
  },
  {
   "cell_type": "code",
   "execution_count": null,
   "metadata": {
    "ExecuteTime": {
     "end_time": "2021-06-01T13:39:40.082409Z",
     "start_time": "2021-06-01T13:38:04.523895Z"
    }
   },
   "outputs": [],
   "source": [
    "client_id=keyring.get_password('spotify', 'cid')\n",
    "client_secret=keyring.get_password('spotify', 'secret') \n",
    "redirect_uri='https://localhost:8888/callback/'\n",
    "\n",
    "username = '12154733675'\n",
    "scope_playlist = 'playlist-modify-public'\n",
    "scope_user = 'user-library-modify'\n",
    "\n",
    "#Credentials to access the Spotify Music Data\n",
    "manager = SpotifyClientCredentials(client_id,client_secret)\n",
    "sp = spotipy.Spotify(client_credentials_manager=manager)\n",
    "\n",
    "#Credentials to access the library  \n",
    "token_user= spotipy.util.prompt_for_user_token(username,scope_user,client_id,client_secret,redirect_uri) \n",
    "sp_user = spotipy.Spotify(auth=token_user)\n",
    "\n",
    "#Credentials to access the playlists\n",
    "token_playlist= spotipy.util.prompt_for_user_token(username,scope_playlist,client_id,client_secret,redirect_uri) \n",
    "sp_playlist = spotipy.Spotify(auth=token_playlist)"
   ]
  },
  {
   "attachments": {},
   "cell_type": "markdown",
   "metadata": {},
   "source": [
    "## Add track ids from recommender engine\n",
    "Replace this with most recent track id recommendations"
   ]
  },
  {
   "cell_type": "code",
   "execution_count": null,
   "metadata": {
    "ExecuteTime": {
     "end_time": "2021-06-01T13:40:16.863170Z",
     "start_time": "2021-06-01T13:40:16.840867Z"
    }
   },
   "outputs": [],
   "source": [
    "track_id_list = ['2e7iqtA42EPXTtiiAlblC1', '2IMODbij0lZ5CuAjZi0IDE',\n",
    "       '63bmIgH9sS6sX5Sc7MetGq', '2tzAN1L07SNwnOdgOEeuQr',\n",
    "       '7sW3f7PqDV7BQ7qqeVBJIA', '0HZ3OUVrGHxttD2EuHqRm3',\n",
    "       '3PgjBOoA5OytNGkglObpOd', '2v5VIWMjZxeiG52KckiXxS',\n",
    "       '65sEZZaxTjLMD8vNgPoMz5', '4mc3rUoMwwiNTHA4al9nNd']"
   ]
  },
  {
   "attachments": {},
   "cell_type": "markdown",
   "metadata": {},
   "source": [
    "## Deploy playlist to Spotify"
   ]
  },
  {
   "cell_type": "code",
   "execution_count": null,
   "metadata": {
    "ExecuteTime": {
     "end_time": "2021-06-01T13:41:13.124540Z",
     "start_time": "2021-06-01T13:41:12.770371Z"
    }
   },
   "outputs": [],
   "source": [
    "new_playlist_name = \"Eskwelabs: Recommendations for seed track\"    \n",
    "new_playlist = sp_playlist.user_playlist_create(username, name=new_playlist_name)\n",
    "new_playlist"
   ]
  },
  {
   "cell_type": "code",
   "execution_count": null,
   "metadata": {
    "ExecuteTime": {
     "end_time": "2021-06-01T13:42:08.088927Z",
     "start_time": "2021-06-01T13:42:08.061846Z"
    }
   },
   "outputs": [],
   "source": [
    "new_playlist['id']"
   ]
  },
  {
   "cell_type": "code",
   "execution_count": null,
   "metadata": {
    "ExecuteTime": {
     "end_time": "2021-06-01T13:42:47.007584Z",
     "start_time": "2021-06-01T13:42:46.829631Z"
    }
   },
   "outputs": [],
   "source": [
    "playlist_id=new_playlist['id']\n",
    "sp_playlist.user_playlist_add_tracks(username, playlist_id, track_id_list)"
   ]
  }
 ],
 "metadata": {
  "kernelspec": {
   "display_name": "Python 3 (ipykernel)",
   "language": "python",
   "name": "python3"
  },
  "language_info": {
   "codemirror_mode": {
    "name": "ipython",
    "version": 3
   },
   "file_extension": ".py",
   "mimetype": "text/x-python",
   "name": "python",
   "nbconvert_exporter": "python",
   "pygments_lexer": "ipython3",
   "version": "3.9.12"
  }
 },
 "nbformat": 4,
 "nbformat_minor": 4
}
